{
  "cells": [
    {
      "cell_type": "markdown",
      "metadata": {
        "id": "view-in-github",
        "colab_type": "text"
      },
      "source": [
        "<a href=\"https://colab.research.google.com/github/shreyarora150/AI-pac-man/blob/main/DQN_cart_stick.ipynb\" target=\"_parent\"><img src=\"https://colab.research.google.com/assets/colab-badge.svg\" alt=\"Open In Colab\"/></a>"
      ]
    },
    {
      "cell_type": "code",
      "execution_count": null,
      "metadata": {
        "id": "M3AVJ1CMmWD9"
      },
      "outputs": [],
      "source": [
        "import os\n",
        "# Keep using keras-2 (tf-keras) rather than keras-3 (keras).\n",
        "os.environ['TF_USE_LEGACY_KERAS'] = '1'"
      ]
    },
    {
      "cell_type": "code",
      "source": [
        "!pip install tf-agents[reverb]"
      ],
      "metadata": {
        "id": "k8NLLRfMma_I"
      },
      "execution_count": null,
      "outputs": []
    },
    {
      "cell_type": "markdown",
      "metadata": {
        "id": "qhEjTj0SmWD_"
      },
      "source": [
        "## import libs"
      ]
    },
    {
      "cell_type": "code",
      "execution_count": null,
      "metadata": {
        "id": "PgyU-xlpmWEA"
      },
      "outputs": [],
      "source": [
        "\n",
        "\n",
        "import base64\n",
        "import imageio\n",
        "import IPython\n",
        "import matplotlib\n",
        "import matplotlib.pyplot as plt\n",
        "import numpy as np\n",
        "import PIL.Image\n",
        "import pyvirtualdisplay\n",
        "import reverb\n",
        "\n",
        "import tensorflow as tf\n",
        "\n",
        "from tf_agents.agents.dqn import dqn_agent\n",
        "from tf_agents.drivers import py_driver\n",
        "from tf_agents.environments import suite_gym\n",
        "from tf_agents.environments import tf_py_environment\n",
        "from tf_agents.eval import metric_utils\n",
        "from tf_agents.metrics import tf_metrics\n",
        "from tf_agents.networks import sequential\n",
        "from tf_agents.policies import py_tf_eager_policy\n",
        "from tf_agents.policies import random_tf_policy\n",
        "from tf_agents.replay_buffers import reverb_replay_buffer\n",
        "from tf_agents.replay_buffers import reverb_utils\n",
        "from tf_agents.trajectories import trajectory\n",
        "from tf_agents.specs import tensor_spec\n",
        "from tf_agents.utils import common"
      ]
    },
    {
      "cell_type": "code",
      "execution_count": null,
      "metadata": {
        "id": "oupwnuUZmWEA"
      },
      "outputs": [],
      "source": [
        "display = pyvirtualdisplay.Display(visible=0, size=(1400, 900)).start()"
      ]
    },
    {
      "cell_type": "markdown",
      "metadata": {
        "id": "m5vOv0xamWEC"
      },
      "source": [
        "## set hyperparameters\n"
      ]
    },
    {
      "cell_type": "code",
      "execution_count": null,
      "metadata": {
        "id": "u7OhO51GmWEC"
      },
      "outputs": [],
      "source": [
        "num_iterations = 20000 # @param {type:\"integer\"}\n",
        "##Training iterations/epochs\n",
        "\n",
        "initial_collect_steps = 100  # @param {type:\"integer\"}\n",
        "collect_steps_per_iteration =   1# @param {type:\"integer\"}\n",
        "replay_buffer_max_length = 100000  # @param {type:\"integer\"}\n",
        "\n",
        "batch_size = 64  # @param {type:\"integer\"}\n",
        "learning_rate = 1e-3  # @param {type:\"number\"}\n",
        "log_interval = 200  # @param {type:\"integer\"}\n",
        "\n",
        "num_eval_episodes = 10  # @param {type:\"integer\"}\n",
        "eval_interval = 1000  # @param {type:\"integer\"}"
      ]
    },
    {
      "cell_type": "markdown",
      "metadata": {
        "id": "sIRarWldmWEC"
      },
      "source": [
        "## load env (atari game)"
      ]
    },
    {
      "cell_type": "code",
      "execution_count": null,
      "metadata": {
        "id": "48UGtZB9mWEC"
      },
      "outputs": [],
      "source": [
        "env_name = 'CartPole-v0'\n",
        "env = suite_gym.load(env_name)"
      ]
    },
    {
      "cell_type": "code",
      "execution_count": null,
      "metadata": {
        "colab": {
          "base_uri": "https://localhost:8080/",
          "height": 417
        },
        "id": "nQNrPry9mWEC",
        "outputId": "d794fcd3-5575-4d31-a6b7-01e1e7d4eb60"
      },
      "outputs": [
        {
          "output_type": "execute_result",
          "data": {
            "text/plain": [
              "<PIL.Image.Image image mode=RGB size=600x400>"
            ],
            "image/png": "[encoded data removed]"
          },
          "metadata": {},
          "execution_count": 8
        }
      ],
      "source": [
        "env.reset()\n",
        "PIL.Image.fromarray(env.render())"
      ]
    },
    {
      "cell_type": "markdown",
      "metadata": {
        "id": "NrNIfHtmmWEC"
      },
      "source": [
        "## examine state var"
      ]
    },
    {
      "cell_type": "code",
      "execution_count": null,
      "metadata": {
        "colab": {
          "base_uri": "https://localhost:8080/"
        },
        "id": "jly945MsmWEC",
        "outputId": "58671764-49ad-4695-e5b4-be00f18b70b5"
      },
      "outputs": [
        {
          "output_type": "stream",
          "name": "stdout",
          "text": [
            "Observation Spec:\n",
            "BoundedArraySpec(shape=(4,), dtype=dtype('float32'), name='observation', minimum=[-4.8000002e+00 -3.4028235e+38 -4.1887903e-01 -3.4028235e+38], maximum=[4.8000002e+00 3.4028235e+38 4.1887903e-01 3.4028235e+38])\n"
          ]
        }
      ],
      "source": [
        "print('Observation Spec:')\n",
        "print(env.time_step_spec().observation)\n",
        "## tuple of 4 (pos_cart,velocity_cart,ang_pos_stick,velocity_stick)"
      ]
    },
    {
      "cell_type": "markdown",
      "metadata": {
        "id": "DxpbX93qmWED"
      },
      "source": [
        "## examine reward var"
      ]
    },
    {
      "cell_type": "code",
      "execution_count": null,
      "metadata": {
        "colab": {
          "base_uri": "https://localhost:8080/"
        },
        "id": "qdF0e1upmWED",
        "outputId": "8af057f0-b5f8-46a0-ca78-6123b1f334b5"
      },
      "outputs": [
        {
          "output_type": "stream",
          "name": "stdout",
          "text": [
            "Reward Spec:\n",
            "ArraySpec(shape=(), dtype=dtype('float32'), name='reward')\n"
          ]
        }
      ],
      "source": [
        "print('Reward Spec:')\n",
        "print(env.time_step_spec().reward)"
      ]
    },
    {
      "cell_type": "markdown",
      "metadata": {
        "id": "QrmqhAT9mWED"
      },
      "source": [
        "## examine actions"
      ]
    },
    {
      "cell_type": "code",
      "execution_count": null,
      "metadata": {
        "colab": {
          "base_uri": "https://localhost:8080/"
        },
        "id": "2z0nEBo0mWED",
        "outputId": "68f86f83-efc7-4afc-e326-17a4f1e5988a"
      },
      "outputs": [
        {
          "output_type": "stream",
          "name": "stdout",
          "text": [
            "Action Spec:\n",
            "BoundedArraySpec(shape=(), dtype=dtype('int64'), name='action', minimum=0, maximum=1)\n"
          ]
        }
      ],
      "source": [
        "print('Action Spec:')\n",
        "print(env.action_spec())\n",
        "## 0- Left\n",
        "## 1- right"
      ]
    },
    {
      "cell_type": "code",
      "execution_count": null,
      "metadata": {
        "colab": {
          "base_uri": "https://localhost:8080/"
        },
        "id": "1eahThZJmWED",
        "outputId": "b8b45087-4807-4169-848f-0b7997c2abe8"
      },
      "outputs": [
        {
          "output_type": "stream",
          "name": "stdout",
          "text": [
            "Time step:\n",
            "TimeStep(\n",
            "{'step_type': array(0, dtype=int32),\n",
            " 'reward': array(0., dtype=float32),\n",
            " 'discount': array(1., dtype=float32),\n",
            " 'observation': array([ 0.04537374,  0.0012499 , -0.0486069 , -0.03067291], dtype=float32)})\n",
            "Next time step:\n",
            "TimeStep(\n",
            "{'step_type': array(1, dtype=int32),\n",
            " 'reward': array(1., dtype=float32),\n",
            " 'discount': array(1., dtype=float32),\n",
            " 'observation': array([ 0.04539874,  0.19703399, -0.04922036, -0.33828697], dtype=float32)})\n"
          ]
        }
      ],
      "source": [
        "time_step = env.reset()\n",
        "print('Time step:')\n",
        "print(time_step)\n",
        "\n",
        "action = np.array(1, dtype=np.int32)\n",
        "\n",
        "next_time_step = env.step(action)\n",
        "print('Next time step:')\n",
        "print(next_time_step)"
      ]
    },
    {
      "cell_type": "markdown",
      "metadata": {
        "id": "ECVdlF-4mWED"
      },
      "source": [
        "## Create training and testing env"
      ]
    },
    {
      "cell_type": "code",
      "execution_count": null,
      "metadata": {
        "id": "SUnXT7aXmWED"
      },
      "outputs": [],
      "source": [
        "train_py_env = suite_gym.load(env_name)\n",
        "eval_py_env = suite_gym.load(env_name)"
      ]
    },
    {
      "cell_type": "code",
      "execution_count": null,
      "metadata": {
        "id": "4gE5HdFzmWED"
      },
      "outputs": [],
      "source": [
        "train_env = tf_py_environment.TFPyEnvironment(train_py_env)\n",
        "eval_env = tf_py_environment.TFPyEnvironment(eval_py_env)"
      ]
    },
    {
      "cell_type": "markdown",
      "metadata": {
        "id": "8Gb6mm3wmWEE"
      },
      "source": [
        "## Create DQN agent"
      ]
    },
    {
      "cell_type": "markdown",
      "metadata": {
        "id": "RC0c782SmWEE"
      },
      "source": [
        "### Create Q network"
      ]
    },
    {
      "cell_type": "code",
      "execution_count": null,
      "metadata": {
        "id": "IWVcd70EmWEE"
      },
      "outputs": [],
      "source": [
        "# At the heart of a DQN Agent is a QNetwork, a neural network model that can learn to predict QValues\n",
        "# (expected returns) for all actions, given an observation from the environment.\n",
        "# use tf_agents.networks. to create a QNetwork.\n",
        "# The network will consist of a sequence of tf.keras.layers.Dense layers, where the final layer will have 1 output for each possible action\n",
        "\n",
        "\n",
        "fc_layer_params = (100, 50)\n",
        "action_tensor_spec = tensor_spec.from_spec(env.action_spec())\n",
        "num_actions = action_tensor_spec.maximum - action_tensor_spec.minimum + 1\n",
        "\n",
        "# Define a helper function to create Dense layers configured with the right\n",
        "# activation and kernel initializer.\n",
        "def dense_layer(num_units):\n",
        "  return tf.keras.layers.Dense(\n",
        "      num_units,\n",
        "      activation=tf.keras.activations.relu,\n",
        "      kernel_initializer=tf.keras.initializers.VarianceScaling(\n",
        "          scale=2.0, mode='fan_in', distribution='truncated_normal'))\n",
        "\n",
        "# QNetwork consists of a sequence of Dense layers followed by a dense layer\n",
        "# with `num_actions` units to generate one q_value per available action as\n",
        "# its output.\n",
        "dense_layers = [dense_layer(num_units) for num_units in fc_layer_params]\n",
        "q_values_layer = tf.keras.layers.Dense(\n",
        "    num_actions,\n",
        "    activation=None,\n",
        "    kernel_initializer=tf.keras.initializers.RandomUniform(\n",
        "        minval=-0.03, maxval=0.03),\n",
        "    bias_initializer=tf.keras.initializers.Constant(-0.2))\n",
        "q_net = sequential.Sequential(dense_layers + [q_values_layer])"
      ]
    },
    {
      "cell_type": "markdown",
      "metadata": {
        "id": "6FU8BnClmWEE"
      },
      "source": [
        "### initialize agent"
      ]
    },
    {
      "cell_type": "code",
      "execution_count": null,
      "metadata": {
        "id": "xFLFlBeImWEE"
      },
      "outputs": [],
      "source": [
        "optimizer = tf.keras.optimizers.Adam(learning_rate=learning_rate)\n",
        "\n",
        "train_step_counter = tf.Variable(0)\n",
        "\n",
        "agent = dqn_agent.DqnAgent(\n",
        "    train_env.time_step_spec(),\n",
        "    train_env.action_spec(),\n",
        "    q_network=q_net,\n",
        "    optimizer=optimizer,\n",
        "    td_errors_loss_fn=common.element_wise_squared_loss,\n",
        "    train_step_counter=train_step_counter)\n",
        "\n",
        "agent.initialize()"
      ]
    },
    {
      "cell_type": "markdown",
      "metadata": {
        "id": "FwqjuuSPmWEE"
      },
      "source": [
        "### Policy"
      ]
    },
    {
      "cell_type": "code",
      "execution_count": null,
      "metadata": {
        "id": "jpC3biaemWEE"
      },
      "outputs": [],
      "source": [
        "# Agents contain two policies:\n",
        "\n",
        "# agent.policy — The main policy that is used for evaluation and deployment.\n",
        "# agent.collect_policy — A second policy that is used for data collection.\n",
        "\n",
        "random_policy = random_tf_policy.RandomTFPolicy(train_env.time_step_spec(),\n",
        "                                                train_env.action_spec())"
      ]
    },
    {
      "cell_type": "code",
      "execution_count": null,
      "metadata": {
        "colab": {
          "base_uri": "https://localhost:8080/"
        },
        "id": "MtXSwnMTmWEE",
        "outputId": "708321c1-60dc-4537-9ef0-cf78f88196d2"
      },
      "outputs": [
        {
          "output_type": "execute_result",
          "data": {
            "text/plain": [
              "PolicyStep(action=<tf.Tensor: shape=(1,), dtype=int64, numpy=array([0])>, state=(), info=())"
            ]
          },
          "metadata": {},
          "execution_count": 18
        }
      ],
      "source": [
        "example_environment = tf_py_environment.TFPyEnvironment(\n",
        "    suite_gym.load('CartPole-v0'))\n",
        "\n",
        "time_step = example_environment.reset()\n",
        "random_policy.action(time_step)"
      ]
    },
    {
      "cell_type": "markdown",
      "metadata": {
        "id": "ve0hXI-PmWEF"
      },
      "source": [
        "### Eval Function"
      ]
    },
    {
      "cell_type": "code",
      "execution_count": null,
      "metadata": {
        "id": "15D7MlyGmWEF"
      },
      "outputs": [],
      "source": [
        "def compute_avg_return(environment, policy, num_episodes=10):\n",
        "\n",
        "  total_return = 0.0\n",
        "  for _ in range(num_episodes):\n",
        "\n",
        "    time_step = environment.reset()\n",
        "    episode_return = 0.0\n",
        "\n",
        "    while not time_step.is_last():\n",
        "      action_step = policy.action(time_step)\n",
        "      time_step = environment.step(action_step.action)\n",
        "      episode_return += time_step.reward\n",
        "    total_return += episode_return\n",
        "\n",
        "  avg_return = total_return / num_episodes\n",
        "  return avg_return.numpy()[0]\n",
        "\n",
        "\n",
        "# See also the metrics module for standard implementations of different metrics.\n",
        "# https://github.com/tensorflow/agents/tree/master/tf_agents/metrics"
      ]
    },
    {
      "cell_type": "code",
      "execution_count": null,
      "metadata": {
        "colab": {
          "base_uri": "https://localhost:8080/"
        },
        "id": "CV-ePWYCmWEF",
        "outputId": "c01ba353-a8cc-4445-dc56-2abf2939d183"
      },
      "outputs": [
        {
          "output_type": "execute_result",
          "data": {
            "text/plain": [
              "20.8"
            ]
          },
          "metadata": {},
          "execution_count": 20
        }
      ],
      "source": [
        "## Run random policy on eval_env to get baseline score\n",
        "compute_avg_return(eval_env, random_policy, num_eval_episodes)"
      ]
    },
    {
      "cell_type": "markdown",
      "source": [
        "## Expereience replay buffer"
      ],
      "metadata": {
        "id": "qX2NuCOpo56L"
      }
    },
    {
      "cell_type": "code",
      "source": [
        "## initialise reverb table\n",
        "\n",
        "table_name = 'uniform_table'\n",
        "\n",
        "replay_buffer_signature = tensor_spec.from_spec(\n",
        "      agent.collect_data_spec)\n",
        "\n",
        "replay_buffer_signature = tensor_spec.add_outer_dim(\n",
        "    replay_buffer_signature)\n",
        "\n",
        "table = reverb.Table(\n",
        "    table_name,\n",
        "    max_size=replay_buffer_max_length,\n",
        "    sampler=reverb.selectors.Uniform(),\n",
        "    remover=reverb.selectors.Fifo(),\n",
        "    rate_limiter=reverb.rate_limiters.MinSize(1),\n",
        "    signature=replay_buffer_signature)\n",
        "\n",
        "reverb_server = reverb.Server([table])\n",
        "\n",
        "replay_buffer = reverb_replay_buffer.ReverbReplayBuffer(\n",
        "    agent.collect_data_spec,\n",
        "    table_name=table_name,\n",
        "    sequence_length=2,\n",
        "    local_server=reverb_server)\n",
        "\n",
        "rb_observer = reverb_utils.ReverbAddTrajectoryObserver(\n",
        "  replay_buffer.py_client,\n",
        "  table_name,\n",
        "  sequence_length=2)"
      ],
      "metadata": {
        "id": "cne0Oo9TpEZm"
      },
      "execution_count": null,
      "outputs": []
    },
    {
      "cell_type": "code",
      "source": [
        "## Experineces (transitions from states and actions) are recoded in a tuple called trajectory\n",
        "agent.collect_data_spec"
      ],
      "metadata": {
        "colab": {
          "base_uri": "https://localhost:8080/"
        },
        "id": "GGmVrsZfpngW",
        "outputId": "122640b1-9656-4409-ace4-62d213fd24c0"
      },
      "execution_count": null,
      "outputs": [
        {
          "output_type": "execute_result",
          "data": {
            "text/plain": [
              "Trajectory(\n",
              "{'step_type': TensorSpec(shape=(), dtype=tf.int32, name='step_type'),\n",
              " 'observation': BoundedTensorSpec(shape=(4,), dtype=tf.float32, name='observation', minimum=array([-4.8000002e+00, -3.4028235e+38, -4.1887903e-01, -3.4028235e+38],\n",
              "      dtype=float32), maximum=array([4.8000002e+00, 3.4028235e+38, 4.1887903e-01, 3.4028235e+38],\n",
              "      dtype=float32)),\n",
              " 'action': BoundedTensorSpec(shape=(), dtype=tf.int64, name='action', minimum=array(0), maximum=array(1)),\n",
              " 'policy_info': (),\n",
              " 'next_step_type': TensorSpec(shape=(), dtype=tf.int32, name='step_type'),\n",
              " 'reward': TensorSpec(shape=(), dtype=tf.float32, name='reward'),\n",
              " 'discount': BoundedTensorSpec(shape=(), dtype=tf.float32, name='discount', minimum=array(0., dtype=float32), maximum=array(1., dtype=float32))})"
            ]
          },
          "metadata": {},
          "execution_count": 27
        }
      ]
    },
    {
      "cell_type": "code",
      "source": [
        "## collect experiences using random policy\n",
        "\n",
        "py_driver.PyDriver(\n",
        "    env,\n",
        "    py_tf_eager_policy.PyTFEagerPolicy(\n",
        "      random_policy, use_tf_function=True),\n",
        "    [rb_observer],\n",
        "    max_steps=initial_collect_steps).run(train_py_env.reset())"
      ],
      "metadata": {
        "colab": {
          "base_uri": "https://localhost:8080/"
        },
        "id": "5NeCmyLTqLCv",
        "outputId": "e86e9334-920f-40d1-9ddf-4e2cb0fcf793"
      },
      "execution_count": null,
      "outputs": [
        {
          "output_type": "execute_result",
          "data": {
            "text/plain": [
              "(TimeStep(\n",
              " {'step_type': array(1, dtype=int32),\n",
              "  'reward': array(1., dtype=float32),\n",
              "  'discount': array(1., dtype=float32),\n",
              "  'observation': array([-0.08953941,  0.0092834 , -0.1801786 , -0.8272886 ], dtype=float32)}),\n",
              " ())"
            ]
          },
          "metadata": {},
          "execution_count": 30
        }
      ]
    },
    {
      "cell_type": "code",
      "source": [
        "### Feed experience buffer data to agent\n",
        "\n",
        "dataset = replay_buffer.as_dataset(\n",
        "    num_parallel_calls=3,\n",
        "    sample_batch_size=batch_size,\n",
        "    num_steps=2).prefetch(3)\n",
        "\n",
        "\n",
        "\n",
        "iterator = iter(dataset)\n",
        "print(iterator)\n"
      ],
      "metadata": {
        "colab": {
          "base_uri": "https://localhost:8080/"
        },
        "id": "sIyjFrqprcBS",
        "outputId": "f94ebd6d-0a9c-474d-f5d5-d9664db58451"
      },
      "execution_count": null,
      "outputs": [
        {
          "output_type": "stream",
          "name": "stdout",
          "text": [
            "<tensorflow.python.data.ops.iterator_ops.OwnedIterator object at 0x7b9be81bcf40>\n"
          ]
        }
      ]
    },
    {
      "cell_type": "code",
      "source": [
        "iterator.next()"
      ],
      "metadata": {
        "id": "smn2ckFqryv2"
      },
      "execution_count": null,
      "outputs": []
    },
    {
      "cell_type": "markdown",
      "source": [
        "## Training the agent for Q values"
      ],
      "metadata": {
        "id": "n_xvEBpPtdxC"
      }
    },
    {
      "cell_type": "code",
      "source": [
        "try:\n",
        "  %%time\n",
        "except:\n",
        "  pass\n",
        "\n",
        "# (Optional) Optimize by wrapping some of the code in a graph using TF function.\n",
        "agent.train = common.function(agent.train)\n",
        "\n",
        "# Reset the train step.\n",
        "agent.train_step_counter.assign(0)\n",
        "\n",
        "# Evaluate the agent's policy once before training.\n",
        "avg_return = compute_avg_return(eval_env, agent.policy, num_eval_episodes)\n",
        "returns = [avg_return]\n",
        "\n",
        "# Reset the environment.\n",
        "time_step = train_py_env.reset()\n",
        "\n",
        "# Create a driver to collect experience.\n",
        "collect_driver = py_driver.PyDriver(\n",
        "    env,\n",
        "    py_tf_eager_policy.PyTFEagerPolicy(\n",
        "      agent.collect_policy, use_tf_function=True),\n",
        "    [rb_observer],\n",
        "    max_steps=collect_steps_per_iteration)\n",
        "\n",
        "for _ in range(num_iterations):\n",
        "\n",
        "  # Collect a few steps and save to the replay buffer.\n",
        "  time_step, _ = collect_driver.run(time_step)\n",
        "\n",
        "  # Sample a batch of data from the buffer and update the agent's network.\n",
        "  experience, unused_info = next(iterator)\n",
        "  train_loss = agent.train(experience).loss\n",
        "\n",
        "  step = agent.train_step_counter.numpy()\n",
        "\n",
        "  if step % log_interval == 0:\n",
        "    print('step = {0}: loss = {1}'.format(step, train_loss))\n",
        "\n",
        "  if step % eval_interval == 0:\n",
        "    avg_return = compute_avg_return(eval_env, agent.policy, num_eval_episodes)\n",
        "    print('step = {0}: Average Return = {1}'.format(step, avg_return))\n",
        "    returns.append(avg_return)"
      ],
      "metadata": {
        "colab": {
          "base_uri": "https://localhost:8080/"
        },
        "id": "J0hIiuiBtks7",
        "outputId": "e5bc9269-b3ee-45f7-94d4-38cd8b601b5b"
      },
      "execution_count": null,
      "outputs": [
        {
          "output_type": "stream",
          "name": "stderr",
          "text": [
            "WARNING:tensorflow:From /usr/local/lib/python3.10/dist-packages/tensorflow/python/util/dispatch.py:1260: calling foldr_v2 (from tensorflow.python.ops.functional_ops) with back_prop=False is deprecated and will be removed in a future version.\n",
            "Instructions for updating:\n",
            "back_prop=False is deprecated. Consider using tf.stop_gradient instead.\n",
            "Instead of:\n",
            "results = tf.foldr(fn, elems, back_prop=False)\n",
            "Use:\n",
            "results = tf.nest.map_structure(tf.stop_gradient, tf.foldr(fn, elems))\n"
          ]
        },
        {
          "output_type": "stream",
          "name": "stdout",
          "text": [
            "step = 200: loss = 22.566129684448242\n",
            "step = 400: loss = 6.772045135498047\n",
            "step = 600: loss = 15.892707824707031\n",
            "step = 800: loss = 75.8833999633789\n",
            "step = 1000: loss = 62.74095916748047\n",
            "step = 1000: Average Return = 182.89999389648438\n",
            "step = 1200: loss = 65.29833221435547\n",
            "step = 1400: loss = 255.61550903320312\n",
            "step = 1600: loss = 146.77468872070312\n",
            "step = 1800: loss = 841.7447509765625\n",
            "step = 2000: loss = 226.30722045898438\n",
            "step = 2000: Average Return = 177.39999389648438\n",
            "step = 2200: loss = 128.23834228515625\n",
            "step = 2400: loss = 144.94488525390625\n",
            "step = 2600: loss = 75.0113525390625\n",
            "step = 2800: loss = 149.4576416015625\n",
            "step = 3000: loss = 240.66937255859375\n",
            "step = 3000: Average Return = 200.0\n",
            "step = 3200: loss = 3108.2822265625\n",
            "step = 3400: loss = 7724.98681640625\n",
            "step = 3600: loss = 118.93036651611328\n",
            "step = 3800: loss = 95.12594604492188\n",
            "step = 4000: loss = 109.55378723144531\n",
            "step = 4000: Average Return = 200.0\n",
            "step = 4200: loss = 51.724365234375\n",
            "step = 4400: loss = 255.65794372558594\n",
            "step = 4600: loss = 144.74578857421875\n",
            "step = 4800: loss = 105.631103515625\n",
            "step = 5000: loss = 443.6292419433594\n",
            "step = 5000: Average Return = 200.0\n",
            "step = 5200: loss = 4084.721435546875\n",
            "step = 5400: loss = 189.51959228515625\n",
            "step = 5600: loss = 3864.475830078125\n",
            "step = 5800: loss = 405.67626953125\n",
            "step = 6000: loss = 284.6330871582031\n",
            "step = 6000: Average Return = 200.0\n",
            "step = 6200: loss = 130.74203491210938\n",
            "step = 6400: loss = 120.87770080566406\n",
            "step = 6600: loss = 102.02361297607422\n",
            "step = 6800: loss = 139.1507568359375\n",
            "step = 7000: loss = 196.83407592773438\n",
            "step = 7000: Average Return = 200.0\n",
            "step = 7200: loss = 2761.55322265625\n",
            "step = 7400: loss = 307.9491882324219\n",
            "step = 7600: loss = 314.7130432128906\n",
            "step = 7800: loss = 117.41513061523438\n",
            "step = 8000: loss = 2801.909423828125\n",
            "step = 8000: Average Return = 200.0\n",
            "step = 8200: loss = 172.3079833984375\n",
            "step = 8400: loss = 54.9747314453125\n",
            "step = 8600: loss = 114.57982635498047\n",
            "step = 8800: loss = 56.183929443359375\n",
            "step = 9000: loss = 112.969970703125\n",
            "step = 9000: Average Return = 200.0\n",
            "step = 9200: loss = 68.61328887939453\n",
            "step = 9400: loss = 68.07489013671875\n",
            "step = 9600: loss = 81.4312515258789\n",
            "step = 9800: loss = 82.57014465332031\n",
            "step = 10000: loss = 67.79289245605469\n",
            "step = 10000: Average Return = 200.0\n",
            "step = 10200: loss = 95.67725372314453\n",
            "step = 10400: loss = 92.93165588378906\n",
            "step = 10600: loss = 1692.79296875\n",
            "step = 10800: loss = 93.3465576171875\n",
            "step = 11000: loss = 640.0121459960938\n",
            "step = 11000: Average Return = 200.0\n",
            "step = 11200: loss = 140.8984375\n",
            "step = 11400: loss = 75.18950653076172\n",
            "step = 11600: loss = 2853.44482421875\n",
            "step = 11800: loss = 3363.2412109375\n",
            "step = 12000: loss = 350.39111328125\n",
            "step = 12000: Average Return = 200.0\n",
            "step = 12200: loss = 1599.190185546875\n",
            "step = 12400: loss = 258.957763671875\n",
            "step = 12600: loss = 122.92547607421875\n",
            "step = 12800: loss = 3929.16357421875\n",
            "step = 13000: loss = 224.0454864501953\n",
            "step = 13000: Average Return = 200.0\n",
            "step = 13200: loss = 151.13833618164062\n",
            "step = 13400: loss = 79.60929870605469\n",
            "step = 13600: loss = 1378.48974609375\n",
            "step = 13800: loss = 269.66204833984375\n",
            "step = 14000: loss = 232.260009765625\n",
            "step = 14000: Average Return = 200.0\n",
            "step = 14200: loss = 49.85748291015625\n",
            "step = 14400: loss = 129.70162963867188\n",
            "step = 14600: loss = 316.54803466796875\n",
            "step = 14800: loss = 794.9114379882812\n",
            "step = 15000: loss = 25121.130859375\n",
            "step = 15000: Average Return = 200.0\n",
            "step = 15200: loss = 7247.19873046875\n",
            "step = 15400: loss = 13059.4765625\n",
            "step = 15600: loss = 2104914.5\n",
            "step = 15800: loss = 18769.712890625\n",
            "step = 16000: loss = 17647.0\n",
            "step = 16000: Average Return = 200.0\n",
            "step = 16200: loss = 13227.5947265625\n",
            "step = 16400: loss = 30320.84375\n",
            "step = 16600: loss = 12668.857421875\n",
            "step = 16800: loss = 25621.33984375\n",
            "step = 17000: loss = 7221.71875\n",
            "step = 17000: Average Return = 200.0\n",
            "step = 17200: loss = 2710822.75\n",
            "step = 17400: loss = 119000.921875\n",
            "step = 17600: loss = 8797.279296875\n",
            "step = 17800: loss = 12912.4296875\n",
            "step = 18000: loss = 19093.576171875\n",
            "step = 18000: Average Return = 200.0\n",
            "step = 18200: loss = 8849.046875\n",
            "step = 18400: loss = 16200.275390625\n",
            "step = 18600: loss = 27388.0546875\n",
            "step = 18800: loss = 16451.17578125\n",
            "step = 19000: loss = 2114844.25\n",
            "step = 19000: Average Return = 200.0\n",
            "step = 19200: loss = 6891.375\n",
            "step = 19400: loss = 3739672.25\n",
            "step = 19600: loss = 4294.2470703125\n",
            "step = 19800: loss = 13146.9794921875\n",
            "step = 20000: loss = 47655.5234375\n",
            "step = 20000: Average Return = 200.0\n"
          ]
        }
      ]
    },
    {
      "cell_type": "code",
      "source": [
        "iterations = range(0, num_iterations + 1, eval_interval)\n",
        "plt.plot(iterations, returns)\n",
        "plt.ylabel('Average Return')\n",
        "plt.xlabel('Iterations')\n",
        "plt.ylim(top=250)"
      ],
      "metadata": {
        "colab": {
          "base_uri": "https://localhost:8080/",
          "height": 473
        },
        "id": "ZlosI7hewKjO",
        "outputId": "67ff61d4-fcd9-4c3c-83cb-29a53197e243"
      },
      "execution_count": null,
      "outputs": [
        {
          "output_type": "execute_result",
          "data": {
            "text/plain": [
              "(-0.1300004005432136, 250.0)"
            ]
          },
          "metadata": {},
          "execution_count": 38
        },
        {
          "output_type": "display_data",
          "data": {
            "text/plain": [
              "<Figure size 640x480 with 1 Axes>"
            ],
            "image/png": "[encoded data removed]"
          },
          "metadata": {}
        }
      ]
    },
    {
      "cell_type": "code",
      "source": [
        "def embed_mp4(filename):\n",
        "  \"\"\"Embeds an mp4 file in the notebook.\"\"\"\n",
        "  video = open(filename,'rb').read()\n",
        "  b64 = base64.b64encode(video)\n",
        "  tag = '''\n",
        "  <video width=\"640\" height=\"480\" controls>\n",
        "    <source src=\"data:video/mp4;base64,{0}\" type=\"video/mp4\">\n",
        "  Your browser does not support the video tag.\n",
        "  </video>'''.format(b64.decode())\n",
        "\n",
        "  return IPython.display.HTML(tag)"
      ],
      "metadata": {
        "id": "7-akQZZtwPcc"
      },
      "execution_count": null,
      "outputs": []
    },
    {
      "cell_type": "code",
      "source": [
        "def create_policy_eval_video(policy, filename, num_episodes=5, fps=30):\n",
        "  filename = filename + \".mp4\"\n",
        "  with imageio.get_writer(filename, fps=fps) as video:\n",
        "    for _ in range(num_episodes):\n",
        "      time_step = eval_env.reset()\n",
        "      video.append_data(eval_py_env.render())\n",
        "      while not time_step.is_last():\n",
        "        action_step = policy.action(time_step)\n",
        "        time_step = eval_env.step(action_step.action)\n",
        "        video.append_data(eval_py_env.render())\n",
        "  return embed_mp4(filename)\n",
        "\n",
        "create_policy_eval_video(agent.policy, \"trained-agent\")"
      ],
      "metadata": {
        "colab": {
          "base_uri": "https://localhost:8080/",
          "height": 539
        },
        "id": "z5dYAGjqwWxs",
        "outputId": "d84d1019-e926-4667-c4ee-8501eefef09a"
      },
      "execution_count": null,
      "outputs": [
        {
          "output_type": "stream",
          "name": "stderr",
          "text": [
            "WARNING:root:IMAGEIO FFMPEG_WRITER WARNING: input image is not divisible by macro_block_size=16, resizing from (400, 600) to (400, 608) to ensure video compatibility with most codecs and players. To prevent resizing, make your input image divisible by the macro_block_size or set the macro_block_size to None (risking incompatibility). You may also see a FFMPEG warning concerning speedloss due to data not being aligned.\n"
          ]
        },
        {
          "output_type": "execute_result",
          "data": {
            "text/plain": [
              "<IPython.core.display.HTML object>"
            ],
            "text/html": [
              "\n",
              "  <video width=\"640\" height=\"480\" controls>\n",
              "    <source src=\"data:video/mp4;base64,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\" type=\"video/mp4\">\n",
              "  Your browser does not support the video tag.\n",
              "  </video>"
            ]
          },
          "metadata": {},
          "execution_count": 40
        }
      ]
    },
    {
      "cell_type": "code",
      "source": [
        "create_policy_eval_video(random_policy, \"random-agent\")"
      ],
      "metadata": {
        "colab": {
          "base_uri": "https://localhost:8080/",
          "height": 539
        },
        "id": "XLBFU-Htw_h8",
        "outputId": "d1527741-372c-4439-a5f9-3d29c1bdf282"
      },
      "execution_count": null,
      "outputs": [
        {
          "output_type": "stream",
          "name": "stderr",
          "text": [
            "WARNING:root:IMAGEIO FFMPEG_WRITER WARNING: input image is not divisible by macro_block_size=16, resizing from (400, 600) to (400, 608) to ensure video compatibility with most codecs and players. To prevent resizing, make your input image divisible by the macro_block_size or set the macro_block_size to None (risking incompatibility). You may also see a FFMPEG warning concerning speedloss due to data not being aligned.\n"
          ]
        },
        {
          "output_type": "execute_result",
          "data": {
            "text/plain": [
              "<IPython.core.display.HTML object>"
            ],
            "text/html": [
              "\n",
              "  <video width=\"640\" height=\"480\" controls>\n",
              "    <source src=\"data:video/mp4;base64,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\" type=\"video/mp4\">\n",
              "  Your browser does not support the video tag.\n",
              "  </video>"
            ]
          },
          "metadata": {},
          "execution_count": 44
        }
      ]
    },
    {
      "cell_type": "markdown",
      "source": [
        "# Summary\n",
        "\n",
        "1. Create Q network with dense layers with relu activation function followed by last linear layer for Predicting Q values\n",
        "\n",
        "2. Initialise DQN agent -> creates evaluation network copy of original nw used in training\n",
        "Has two policies\n",
        "    agent.policy -> used for training and evaluation and how agent plays\n",
        "    agent.collect_policy -> for data collection\n",
        "\n",
        "3. Create Experience replay buffer -> Rverb table that stores time_step,action_step, reward\n",
        "\n",
        "->Contains in built sampler (Uniform sampling in this case)\n",
        "\n",
        "->observer for storing more trajectories/transitions form pydriver object\n",
        "\n",
        "\n",
        "  Store initial transitions using random policy then in training phase with each iteration collect more transitions and feed it to network for training\n",
        "\n",
        "4. Traing Q nw\n",
        "for each iteration\n",
        "-> Collect more transitions using collect policy store it in experience buffer obsevrer table\n",
        "\n",
        "-> Sample data from Exp buffer feed it to Q NN for training which updates q values using bellman equation\n",
        "\n",
        "-> Evaluate training loss (squared error loss) and average returns (sum of rewards)\n"
      ],
      "metadata": {
        "id": "WJdGQkaL0BTE"
      }
    }
  ],
  "metadata": {
    "kernelspec": {
      "display_name": "Python 3.11.5 ('base')",
      "language": "python",
      "name": "python3"
    },
    "language_info": {
      "codemirror_mode": {
        "name": "ipython",
        "version": 3
      },
      "file_extension": ".py",
      "mimetype": "text/x-python",
      "name": "python",
      "nbconvert_exporter": "python",
      "pygments_lexer": "ipython3",
      "version": "3.11.5"
    },
    "orig_nbformat": 4,
    "vscode": {
      "interpreter": {
        "hash": "3ba8e8e9abab8b344aa214c830b62d0b99bfa93d4484cc4cad07e3e302a60b39"
      }
    },
    "colab": {
      "provenance": [],
      "include_colab_link": true
    }
  },
  "nbformat": 4,
  "nbformat_minor": 0
}